{
 "cells": [
  {
   "cell_type": "code",
   "execution_count": 22,
   "metadata": {},
   "outputs": [],
   "source": [
    "import pandas as pd\n",
    "from random import randint\n",
    "import xlsxwriter"
   ]
  },
  {
   "cell_type": "code",
   "execution_count": 3,
   "metadata": {},
   "outputs": [],
   "source": [
    "#buys 70 papers each day at 0.33\n",
    "noOfPaper = 70\n",
    "costOfPaper = 0.33\n",
    "#sells paper at 0.5 and earns 0.05 for scrap\n",
    "sellPrice = 0.5\n",
    "scrapPrice = 0.05"
   ]
  },
  {
   "cell_type": "code",
   "execution_count": 5,
   "metadata": {},
   "outputs": [
    {
     "name": "stdout",
     "output_type": "stream",
     "text": [
      "['Day', 'RDA by Day', 'Type of Day', 'RDA for demand', 'Demand', 'Revenue from Sales', 'Loss profit from excess', 'Scraps', 'Daily profit']\n"
     ]
    }
   ],
   "source": [
    "colNames = ['Day','RDA by Day','Type of Day','RDA for demand','Demand','Revenue from Sales','Loss profit from excess','Scraps','Daily profit']\n",
    "print(colNames)"
   ]
  },
  {
   "cell_type": "code",
   "execution_count": 132,
   "metadata": {},
   "outputs": [],
   "source": [
    "finalData = []\n",
    "finalData.append(colNames)\n",
    "summationRevenueSales=0\n",
    "summationLossProfit = 0\n",
    "summationScraps = 0\n",
    "summationProfit = 0\n",
    "for i in range(1,501):\n",
    "    data=[]\n",
    "    data.append(i)\n",
    "    rdaDay = randint(0,100)\n",
    "    data.append(rdaDay)\n",
    "    typeDay=''\n",
    "    if rdaDay >= 0 and rdaDay <= 40:\n",
    "        typeDay = 'Good'\n",
    "    elif rdaDay >= 41 and rdaDay <= 80:\n",
    "        typeDay = 'Fair'\n",
    "    else:\n",
    "        typeDay = 'Poor'\n",
    "    data.append(typeDay)\n",
    "    rdaDemand = randint(0,100)\n",
    "    data.append(rdaDemand)\n",
    "    demand = randint(40,100)\n",
    "    data.append(demand)\n",
    "    revenueSales = -1\n",
    "    if demand < noOfPaper :\n",
    "        revenueSales = demand * sellPrice\n",
    "    else:\n",
    "        revenueSales = noOfPaper * sellPrice\n",
    "    summationRevenueSales += revenueSales\n",
    "    data.append(revenueSales)\n",
    "    lossExcess = 0\n",
    "    if demand > noOfPaper :\n",
    "        lossExcess = (demand - noOfPaper) * 0.17\n",
    "    summationLossProfit += lossExcess\n",
    "    data.append(lossExcess)\n",
    "    scraps = 0\n",
    "    if demand < noOfPaper :\n",
    "        scraps = (noOfPaper - demand) * scrapPrice\n",
    "    summationScraps += scraps\n",
    "    data.append(scraps)\n",
    "    dailyProfit = revenueSales - (noOfPaper * costOfPaper ) - lossExcess + scraps\n",
    "    summationProfit += dailyProfit\n",
    "    data.append(dailyProfit)\n",
    "    finalData.append(data)"
   ]
  },
  {
   "cell_type": "code",
   "execution_count": 133,
   "metadata": {},
   "outputs": [],
   "source": [
    "df = pd.DataFrame(finalData)"
   ]
  },
  {
   "cell_type": "code",
   "execution_count": 134,
   "metadata": {},
   "outputs": [],
   "source": [
    "writer = pd.ExcelWriter('SMS_Paper_Seller.xlsx', engine='xlsxwriter')"
   ]
  },
  {
   "cell_type": "code",
   "execution_count": 135,
   "metadata": {},
   "outputs": [],
   "source": [
    "df.to_excel(writer, sheet_name='DhanviPDesai',startrow=0, header=False,index=False)"
   ]
  },
  {
   "cell_type": "code",
   "execution_count": null,
   "metadata": {},
   "outputs": [],
   "source": []
  },
  {
   "cell_type": "code",
   "execution_count": 136,
   "metadata": {},
   "outputs": [],
   "source": [
    "workbook = writer.book\n",
    "worksheet = writer.sheets['DhanviPDesai']"
   ]
  },
  {
   "cell_type": "code",
   "execution_count": 137,
   "metadata": {},
   "outputs": [
    {
     "name": "stdout",
     "output_type": "stream",
     "text": [
      "15618.0\n",
      "650.5899999999998\n",
      "188.1999999999999\n",
      "3605.609999999998\n"
     ]
    }
   ],
   "source": [
    "print(summationRevenueSales)\n",
    "print(summationLossProfit)\n",
    "print(summationScraps)\n",
    "print(summationProfit)\n",
    "worksheet.write_number('F502',summationRevenueSales)\n",
    "worksheet.write_number('G502',summationLossProfit)\n",
    "worksheet.write_number('H502',summationScraps)\n",
    "worksheet.write_number('I502',summationProfit)\n",
    "workbook.close()"
   ]
  },
  {
   "cell_type": "code",
   "execution_count": 138,
   "metadata": {},
   "outputs": [],
   "source": [
    "writer.save()"
   ]
  },
  {
   "cell_type": "code",
   "execution_count": null,
   "metadata": {},
   "outputs": [],
   "source": []
  }
 ],
 "metadata": {
  "kernelspec": {
   "display_name": "Python 3",
   "language": "python",
   "name": "python3"
  },
  "language_info": {
   "codemirror_mode": {
    "name": "ipython",
    "version": 3
   },
   "file_extension": ".py",
   "mimetype": "text/x-python",
   "name": "python",
   "nbconvert_exporter": "python",
   "pygments_lexer": "ipython3",
   "version": "3.7.5"
  }
 },
 "nbformat": 4,
 "nbformat_minor": 4
}
