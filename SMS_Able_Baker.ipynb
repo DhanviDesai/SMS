{
 "cells": [
  {
   "cell_type": "code",
   "execution_count": 76,
   "metadata": {},
   "outputs": [
    {
     "name": "stdout",
     "output_type": "stream",
     "text": [
      "{'1': [0.25, 0.25, 0, 25], '2': [0.4, 0.65, 26, 65], '3': [0.2, 0.85, 66, 85], '4': [0.15, 1, 86, 100]}\n",
      "{'2': [0.3, 0.3, 0, 30], '3': [0.28, 0.58, 31, 58], '4': [0.25, 0.83, 59, 83], '5': [0.17, 1, 84, 100]}\n",
      "{'3': [0.35, 0.35, 0, 35], '4': [0.25, 0.6, 36, 60], '5': [0.2, 0.8, 61, 80], '6': [0.2, 1, 81, 100]}\n"
     ]
    }
   ],
   "source": [
    "table1 = {'1':[0.25,0.25,0,25],'2':[0.40,0.65,26,65],'3':[0.2,0.85,66,85],'4':[0.15,1,86,100]}\n",
    "able = {'2':[0.3,0.3,0,30],'3':[0.28,0.58,31,58],'4':[0.25,0.83,59,83],'5':[0.17,1,84,100]}\n",
    "baker = {'3':[0.35,0.35,0,35],'4':[0.25,0.60,36,60],'5':[0.2,0.8,61,80],'6':[0.2,1,81,100]}\n",
    "print(table1)\n",
    "print(able)\n",
    "print(baker)"
   ]
  },
  {
   "cell_type": "code",
   "execution_count": 77,
   "metadata": {},
   "outputs": [],
   "source": [
    "import pandas as pd\n",
    "from random import randint\n",
    "import xlsxwriter"
   ]
  },
  {
   "cell_type": "code",
   "execution_count": 78,
   "metadata": {},
   "outputs": [],
   "source": [
    "colnames = ['Cutomers','RAD for Arrival','Inter Arrival Time','Arrival Time','RAD for Service','Handled By','TSB','ST','TSE','Waiting Time','System Time']"
   ]
  },
  {
   "cell_type": "code",
   "execution_count": 79,
   "metadata": {},
   "outputs": [],
   "source": [
    "def findHandledBy(at,abletse,bakertse):\n",
    "    #return 0 for able and 1 for baker\n",
    "    wt = 0\n",
    "    if at >= abletse:\n",
    "        return 0,wt\n",
    "    elif at >= bakertse:\n",
    "        return 1,wt\n",
    "    else:\n",
    "        diffab = abletse - at\n",
    "        diffba = bakertse - at\n",
    "        if diffba > diffab :\n",
    "            wt = diffab\n",
    "            return 0,wt\n",
    "        else:\n",
    "            wt = diffba\n",
    "            return 1,wt\n",
    "    \n",
    "    \n",
    "fullData = []\n",
    "fullData.append(colnames)\n",
    "prevat = -1\n",
    "handledby = 0\n",
    "abletsb = -1\n",
    "bakertsb = -1\n",
    "abletse = -1\n",
    "bakertse = -1\n",
    "SystemTime = 0\n",
    "finalSystemTime = 0\n",
    "waitingTime = 0\n",
    "ableWorking = 0\n",
    "bakerWorking = 0\n",
    "totalWaitingTime = 0\n",
    "for i in range(1,501):\n",
    "    data = []\n",
    "    data.append(i)\n",
    "    at = 0\n",
    "    randArrival = 0\n",
    "    if i==1:\n",
    "        randArrival = -1\n",
    "    else:\n",
    "        randArrival = randint(0,100)\n",
    "    data.append(randArrival)\n",
    "    iat = 0\n",
    "    if randArrival == -1:\n",
    "        iat = -1\n",
    "        at=0\n",
    "        prevat = at\n",
    "        data.append(iat)\n",
    "        data.append(at)\n",
    "        handledBy = 0\n",
    "    else:\n",
    "        for key in table1.keys():\n",
    "            currRow = table1[key]\n",
    "            lowLimit = currRow[2]\n",
    "            upLimit = currRow[3]\n",
    "            if randArrival >= lowLimit and randArrival <= upLimit:\n",
    "                iat = int(key)\n",
    "        at = prevat + iat\n",
    "        prevat = at\n",
    "        data.append(iat)\n",
    "        data.append(at)\n",
    "        handledBy,waitingTime = findHandledBy(at,abletse,bakertse)\n",
    "    service = randint(0,100)\n",
    "    data.append(service)\n",
    "    if handledBy == 0:\n",
    "        data.append('Able')\n",
    "        for key in able.keys():\n",
    "            currRow = able[key]\n",
    "            lowLimit = currRow[2]\n",
    "            upLimit = currRow[3]\n",
    "            if service >= lowLimit and service <= upLimit:\n",
    "                st = int(key)\n",
    "        data.append(at)\n",
    "        data.append(st)\n",
    "        abletse = at + st\n",
    "        ableWorking += st\n",
    "        data.append(abletse)\n",
    "        SystemTime = st\n",
    "    elif handledBy == 1:\n",
    "        data.append('Baker')\n",
    "        for key in baker.keys():\n",
    "            currRow = baker[key]\n",
    "            lowLimit = currRow[2]\n",
    "            upLimit = currRow[3]\n",
    "            if service >= lowLimit and service <= upLimit:\n",
    "                st = int(key)\n",
    "        data.append(at)\n",
    "        data.append(st)\n",
    "        bakertse = at + st\n",
    "        bakerWorking += st\n",
    "        data.append(bakertse)\n",
    "        SystemTime = st\n",
    "    totalWaitingTime += waitingTime\n",
    "    data.append(waitingTime)\n",
    "    data.append(SystemTime)\n",
    "    finalSystemTime += SystemTime\n",
    "    fullData.append(data)"
   ]
  },
  {
   "cell_type": "code",
   "execution_count": 80,
   "metadata": {},
   "outputs": [],
   "source": [
    "df = pd.DataFrame(fullData)\n",
    "writer = pd.ExcelWriter('SMS_Able_Baker.xlsx', engine='xlsxwriter')\n",
    "df.to_excel(writer, sheet_name='DhanviPDesai',startrow=0, header=False,index=False)\n",
    "workbook = writer.book\n",
    "ableIdle = finalSystemTime - ableWorking\n",
    "bakerIdle = finalSystemTime - bakerWorking\n",
    "worksheet = writer.sheets['DhanviPDesai']\n",
    "worksheet.write('K502',finalSystemTime)\n",
    "worksheet.write('J502',totalWaitingTime)\n",
    "worksheet.write('F502','Able Idle Time = '+str(ableIdle))\n",
    "worksheet.write('F503','Baker Idle Time = '+str(bakerIdle))\n",
    "workbook.close()"
   ]
  },
  {
   "cell_type": "code",
   "execution_count": 35,
   "metadata": {},
   "outputs": [
    {
     "name": "stdout",
     "output_type": "stream",
     "text": [
      "[43, 69, 60, 59, 25]\n",
      "[50, 19, 85, 29, 6, 53]\n"
     ]
    }
   ],
   "source": [
    "randomArrival = []\n",
    "randomService = []\n",
    "for i in range(1,6):\n",
    "    randomArrival.append(randint(0,100))\n",
    "for i in range(1,7):\n",
    "    randomService.append(randint(0,100))\n",
    "print(randomArrival)\n",
    "print(randomService)"
   ]
  },
  {
   "cell_type": "code",
   "execution_count": 22,
   "metadata": {},
   "outputs": [
    {
     "name": "stdout",
     "output_type": "stream",
     "text": [
      "[0, 4, 2, 3, 2, 2]\n"
     ]
    }
   ],
   "source": [
    "iat = [0]\n",
    "for i in range(len(randomArrival)):\n",
    "    randArrival = randomArrival[i]\n",
    "    for key in table1.keys():\n",
    "        listIat = table1[key]\n",
    "        lowLimit = listIat[2]\n",
    "        upLimit = listIat[3]\n",
    "        if randArrival >= lowLimit and randArrival <= upLimit:\n",
    "            iat.append(int(key))\n",
    "print(iat)"
   ]
  },
  {
   "cell_type": "code",
   "execution_count": 23,
   "metadata": {},
   "outputs": [
    {
     "name": "stdout",
     "output_type": "stream",
     "text": [
      "[0, 4, 6, 9, 11, 13]\n"
     ]
    }
   ],
   "source": [
    "at = []\n",
    "for i in range(len(iat)):\n",
    "    if i == 0:\n",
    "        at.append(iat[0])\n",
    "    else:\n",
    "        curr = at[i-1]\n",
    "        curr += iat[i]\n",
    "        at.append(curr)\n",
    "print(at)"
   ]
  },
  {
   "cell_type": "code",
   "execution_count": null,
   "metadata": {},
   "outputs": [],
   "source": [
    "#if both are free the job is assigned to able else baker\n",
    "#if both are busy the customer waits for one of them to get free\n",
    "ableSpecs={'tsb':0,'st':0,'tse':0}\n",
    "bakerSpecs={'tsb':0,'st':0,'tse':0}\n",
    "totalSystemTime = 0\n",
    "waitingTime = 0\n",
    "for i in range(len(at)):\n",
    "    currAt = at[i]\n",
    "    if currAt >= ableSpecs['tse']:\n",
    "        for key in able.keys():\n",
    "            currRow = able[key]\n",
    "            lowLimit = currRow[2]\n",
    "            upLimit = currRow[3]\n",
    "            if currAt >= lowLimit and currAt <= upLimit :\n",
    "                st = int(key)\n",
    "        tse = currAt + st\n",
    "        ableSpecs['tse'] = tse\n",
    "    elif currAt >= bakerSpecs['tse']:\n",
    "        for key in baker.keys():\n",
    "            currRowBaker = baker[key]\n",
    "            lowLimit = currRowBaker[2]\n",
    "            upLimit = currRowBaker[3]\n",
    "            if currAt >= lowLimie and currAt <= upLimit:\n",
    "                st = int(key)\n",
    "        tse = currAt + st\n",
    "        bakerSpecs['tse'] = tse\n",
    "    else :\n",
    "        diffAble = ableSpecs['tse'] - currAt\n",
    "        diffBaker = bakerSpecs['tse'] - currAt\n",
    "        if (diffAble > diffBaker):\n",
    "            \n",
    "        "
   ]
  }
 ],
 "metadata": {
  "kernelspec": {
   "display_name": "Python 3",
   "language": "python",
   "name": "python3"
  },
  "language_info": {
   "codemirror_mode": {
    "name": "ipython",
    "version": 3
   },
   "file_extension": ".py",
   "mimetype": "text/x-python",
   "name": "python",
   "nbconvert_exporter": "python",
   "pygments_lexer": "ipython3",
   "version": "3.7.5"
  }
 },
 "nbformat": 4,
 "nbformat_minor": 4
}
